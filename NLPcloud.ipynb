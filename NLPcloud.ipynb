{
  "cells": [
    {
      "cell_type": "markdown",
      "metadata": {
        "id": "view-in-github",
        "colab_type": "text"
      },
      "source": [
        "<a href=\"https://colab.research.google.com/github/merahul22/NLPcloud/blob/main/NLPcloud.ipynb\" target=\"_parent\"><img src=\"https://colab.research.google.com/assets/colab-badge.svg\" alt=\"Open In Colab\"/></a>"
      ]
    },
    {
      "cell_type": "code",
      "source": [
        "import nlpcloud\n",
        "\n",
        "class NLPApp:\n",
        "\n",
        "  def __init__(self):\n",
        "\n",
        "    self.__database = {}\n",
        "    self.__first_menu()\n",
        "\n",
        "  def __first_menu(self):\n",
        "\n",
        "    first_input = input(\"\"\"\n",
        "    Hi! how would you like to proceed?\n",
        "    1. Not a member? Register\n",
        "    2. Already a member? Login\n",
        "    3. Galti se aa gaye? Exit\n",
        "    \"\"\")\n",
        "\n",
        "    if first_input == '1':\n",
        "      self.__register()\n",
        "    elif first_input == '2':\n",
        "      self.__login()\n",
        "    else:\n",
        "      exit()\n",
        "\n",
        "  def __second_menu(self):\n",
        "\n",
        "    second_input = input(\"\"\"\n",
        "    Hi! how would you like to proceed?\n",
        "    1. NER\n",
        "    2. Language Detection\n",
        "    3. Sentiment Analysis\n",
        "    4. Logout\n",
        "    \"\"\")\n",
        "\n",
        "    if second_input == '1':\n",
        "      self.__ner()\n",
        "    elif second_input == '2':\n",
        "      self.__language_detection()\n",
        "    elif second_input == '3':\n",
        "      self.__sentiment_analysis()\n",
        "    else:\n",
        "      exit()\n",
        "\n",
        "  def __register(self):\n",
        "    name = input('enter name')\n",
        "    email = input('enter email')\n",
        "    password = input('enter password')\n",
        "\n",
        "    if email in self.__database:\n",
        "      print('email already exists')\n",
        "    else:\n",
        "      self.__database[email] = [name,password]\n",
        "      print('registration successful.Now login')\n",
        "      print(self.__database)\n",
        "      self.__first_menu()\n",
        "\n",
        "\n",
        "  def __login(self):\n",
        "\n",
        "    email = input('enter email')\n",
        "    password = input('enter password')\n",
        "\n",
        "    if email in self.__database:\n",
        "      if self.__database[email][1] == password:\n",
        "        print('login successful')\n",
        "        self.__second_menu()\n",
        "      else:\n",
        "        print('wrong password.Try again')\n",
        "        self.__login()\n",
        "    else:\n",
        "      print('This email is not registered')\n",
        "      self.__first_menu()\n",
        "\n",
        "  def __sentiment_analysis(self):\n",
        "    para = input('enter the paragraph')\n",
        "\n",
        "    client = nlpcloud.Client(\"finetuned-llama-3-70b\", \"c1bb7a61dddcefba1f525f071b737a73db3d5fc4\", gpu=True)\n",
        "    response = client.sentiment(para)\n",
        "\n",
        "    L = []\n",
        "    for i in response['scored_labels']:\n",
        "      L.append(i['score'])\n",
        "\n",
        "    index = sorted(list(enumerate(L)),key=lambda x:x[1],reverse=True)[0][0]\n",
        "\n",
        "    print(response['scored_labels'][index]['label'])\n",
        "    self.__second_menu()\n",
        "  def __ner(self):\n",
        "    para = input('enter the paragraph')\n",
        "    entity=input(\"enter entity u want to search\")\n",
        "\n",
        "    client = nlpcloud.Client(\"finetuned-llama-3-70b\", \"c1bb7a61dddcefba1f525f071b737a73db3d5fc4\", gpu=True)\n",
        "    response=client.entities(\n",
        "    para,\n",
        "    searched_entity=\"programming languages\"\n",
        "    )\n",
        "    L=[]\n",
        "    for entity in response['entities']:\n",
        "      L.append(entity['text'])\n",
        "    print(L)\n",
        "    self.__second_menu()\n",
        "  def __language_detection(self):\n",
        "    para = input('enter the paragraph')\n",
        "    client = nlpcloud.Client(\"python-langdetect\", \"c1bb7a61dddcefba1f525f071b737a73db3d5fc4\", gpu=False)\n",
        "    response=client.langdetection( # Changed from lang_detection to langdetection\n",
        "    para\n",
        "    )\n",
        "    l=[]\n",
        "    for lang in response['languages']:\n",
        "      for i in lang.keys():\n",
        "        l.append(i)\n",
        "    print(l)\n",
        "    self.__second_menu()\n",
        "\n",
        "obj = NLPApp()"
      ],
      "metadata": {
        "id": "dJmumSunIpmR",
        "outputId": "598273f4-a30b-4351-9acf-4dfd89e418f1",
        "colab": {
          "base_uri": "https://localhost:8080/",
          "height": 321
        }
      },
      "execution_count": 3,
      "outputs": [
        {
          "output_type": "error",
          "ename": "KeyboardInterrupt",
          "evalue": "Interrupted by user",
          "traceback": [
            "\u001b[0;31m---------------------------------------------------------------------------\u001b[0m",
            "\u001b[0;31mKeyboardInterrupt\u001b[0m                         Traceback (most recent call last)",
            "\u001b[0;32m<ipython-input-3-37b157ca36b6>\u001b[0m in \u001b[0;36m<cell line: 0>\u001b[0;34m()\u001b[0m\n\u001b[1;32m    114\u001b[0m     \u001b[0mself\u001b[0m\u001b[0;34m.\u001b[0m\u001b[0m__second_menu\u001b[0m\u001b[0;34m(\u001b[0m\u001b[0;34m)\u001b[0m\u001b[0;34m\u001b[0m\u001b[0;34m\u001b[0m\u001b[0m\n\u001b[1;32m    115\u001b[0m \u001b[0;34m\u001b[0m\u001b[0m\n\u001b[0;32m--> 116\u001b[0;31m \u001b[0mobj\u001b[0m \u001b[0;34m=\u001b[0m \u001b[0mNLPApp\u001b[0m\u001b[0;34m(\u001b[0m\u001b[0;34m)\u001b[0m\u001b[0;34m\u001b[0m\u001b[0;34m\u001b[0m\u001b[0m\n\u001b[0m",
            "\u001b[0;32m<ipython-input-3-37b157ca36b6>\u001b[0m in \u001b[0;36m__init__\u001b[0;34m(self)\u001b[0m\n\u001b[1;32m      6\u001b[0m \u001b[0;34m\u001b[0m\u001b[0m\n\u001b[1;32m      7\u001b[0m     \u001b[0mself\u001b[0m\u001b[0;34m.\u001b[0m\u001b[0m__database\u001b[0m \u001b[0;34m=\u001b[0m \u001b[0;34m{\u001b[0m\u001b[0;34m}\u001b[0m\u001b[0;34m\u001b[0m\u001b[0;34m\u001b[0m\u001b[0m\n\u001b[0;32m----> 8\u001b[0;31m     \u001b[0mself\u001b[0m\u001b[0;34m.\u001b[0m\u001b[0m__first_menu\u001b[0m\u001b[0;34m(\u001b[0m\u001b[0;34m)\u001b[0m\u001b[0;34m\u001b[0m\u001b[0;34m\u001b[0m\u001b[0m\n\u001b[0m\u001b[1;32m      9\u001b[0m \u001b[0;34m\u001b[0m\u001b[0m\n\u001b[1;32m     10\u001b[0m   \u001b[0;32mdef\u001b[0m \u001b[0m__first_menu\u001b[0m\u001b[0;34m(\u001b[0m\u001b[0mself\u001b[0m\u001b[0;34m)\u001b[0m\u001b[0;34m:\u001b[0m\u001b[0;34m\u001b[0m\u001b[0;34m\u001b[0m\u001b[0m\n",
            "\u001b[0;32m<ipython-input-3-37b157ca36b6>\u001b[0m in \u001b[0;36m__first_menu\u001b[0;34m(self)\u001b[0m\n\u001b[1;32m     10\u001b[0m   \u001b[0;32mdef\u001b[0m \u001b[0m__first_menu\u001b[0m\u001b[0;34m(\u001b[0m\u001b[0mself\u001b[0m\u001b[0;34m)\u001b[0m\u001b[0;34m:\u001b[0m\u001b[0;34m\u001b[0m\u001b[0;34m\u001b[0m\u001b[0m\n\u001b[1;32m     11\u001b[0m \u001b[0;34m\u001b[0m\u001b[0m\n\u001b[0;32m---> 12\u001b[0;31m     first_input = input(\"\"\"\n\u001b[0m\u001b[1;32m     13\u001b[0m     \u001b[0mHi\u001b[0m\u001b[0;31m!\u001b[0m \u001b[0mhow\u001b[0m \u001b[0mwould\u001b[0m \u001b[0myou\u001b[0m \u001b[0mlike\u001b[0m \u001b[0mto\u001b[0m \u001b[0mproceed\u001b[0m\u001b[0;31m?\u001b[0m\u001b[0;34m\u001b[0m\u001b[0;34m\u001b[0m\u001b[0m\n\u001b[1;32m     14\u001b[0m     \u001b[0;36m1.\u001b[0m \u001b[0mNot\u001b[0m \u001b[0ma\u001b[0m \u001b[0mmember\u001b[0m\u001b[0;31m?\u001b[0m \u001b[0mRegister\u001b[0m\u001b[0;34m\u001b[0m\u001b[0;34m\u001b[0m\u001b[0m\n",
            "\u001b[0;32m/usr/local/lib/python3.11/dist-packages/ipykernel/kernelbase.py\u001b[0m in \u001b[0;36mraw_input\u001b[0;34m(self, prompt)\u001b[0m\n\u001b[1;32m   1175\u001b[0m                 \u001b[0;34m\"raw_input was called, but this frontend does not support input requests.\"\u001b[0m\u001b[0;34m\u001b[0m\u001b[0;34m\u001b[0m\u001b[0m\n\u001b[1;32m   1176\u001b[0m             )\n\u001b[0;32m-> 1177\u001b[0;31m         return self._input_request(\n\u001b[0m\u001b[1;32m   1178\u001b[0m             \u001b[0mstr\u001b[0m\u001b[0;34m(\u001b[0m\u001b[0mprompt\u001b[0m\u001b[0;34m)\u001b[0m\u001b[0;34m,\u001b[0m\u001b[0;34m\u001b[0m\u001b[0;34m\u001b[0m\u001b[0m\n\u001b[1;32m   1179\u001b[0m             \u001b[0mself\u001b[0m\u001b[0;34m.\u001b[0m\u001b[0m_parent_ident\u001b[0m\u001b[0;34m[\u001b[0m\u001b[0;34m\"shell\"\u001b[0m\u001b[0;34m]\u001b[0m\u001b[0;34m,\u001b[0m\u001b[0;34m\u001b[0m\u001b[0;34m\u001b[0m\u001b[0m\n",
            "\u001b[0;32m/usr/local/lib/python3.11/dist-packages/ipykernel/kernelbase.py\u001b[0m in \u001b[0;36m_input_request\u001b[0;34m(self, prompt, ident, parent, password)\u001b[0m\n\u001b[1;32m   1217\u001b[0m             \u001b[0;32mexcept\u001b[0m \u001b[0mKeyboardInterrupt\u001b[0m\u001b[0;34m:\u001b[0m\u001b[0;34m\u001b[0m\u001b[0;34m\u001b[0m\u001b[0m\n\u001b[1;32m   1218\u001b[0m                 \u001b[0;31m# re-raise KeyboardInterrupt, to truncate traceback\u001b[0m\u001b[0;34m\u001b[0m\u001b[0;34m\u001b[0m\u001b[0m\n\u001b[0;32m-> 1219\u001b[0;31m                 \u001b[0;32mraise\u001b[0m \u001b[0mKeyboardInterrupt\u001b[0m\u001b[0;34m(\u001b[0m\u001b[0;34m\"Interrupted by user\"\u001b[0m\u001b[0;34m)\u001b[0m \u001b[0;32mfrom\u001b[0m \u001b[0;32mNone\u001b[0m\u001b[0;34m\u001b[0m\u001b[0;34m\u001b[0m\u001b[0m\n\u001b[0m\u001b[1;32m   1220\u001b[0m             \u001b[0;32mexcept\u001b[0m \u001b[0mException\u001b[0m\u001b[0;34m:\u001b[0m\u001b[0;34m\u001b[0m\u001b[0;34m\u001b[0m\u001b[0m\n\u001b[1;32m   1221\u001b[0m                 \u001b[0mself\u001b[0m\u001b[0;34m.\u001b[0m\u001b[0mlog\u001b[0m\u001b[0;34m.\u001b[0m\u001b[0mwarning\u001b[0m\u001b[0;34m(\u001b[0m\u001b[0;34m\"Invalid Message:\"\u001b[0m\u001b[0;34m,\u001b[0m \u001b[0mexc_info\u001b[0m\u001b[0;34m=\u001b[0m\u001b[0;32mTrue\u001b[0m\u001b[0;34m)\u001b[0m\u001b[0;34m\u001b[0m\u001b[0;34m\u001b[0m\u001b[0m\n",
            "\u001b[0;31mKeyboardInterrupt\u001b[0m: Interrupted by user"
          ]
        }
      ]
    },
    {
      "cell_type": "code",
      "source": [
        "!pip install nlpcloud"
      ],
      "metadata": {
        "colab": {
          "base_uri": "https://localhost:8080/"
        },
        "id": "3_xpZfYetzy7",
        "outputId": "ef54cad3-317b-4d4b-b296-ce753a2d6ca6"
      },
      "execution_count": 2,
      "outputs": [
        {
          "output_type": "stream",
          "name": "stdout",
          "text": [
            "Collecting nlpcloud\n",
            "  Downloading nlpcloud-1.1.47-py3-none-any.whl.metadata (1.1 kB)\n",
            "Requirement already satisfied: requests in /usr/local/lib/python3.11/dist-packages (from nlpcloud) (2.32.3)\n",
            "Requirement already satisfied: charset-normalizer<4,>=2 in /usr/local/lib/python3.11/dist-packages (from requests->nlpcloud) (3.4.2)\n",
            "Requirement already satisfied: idna<4,>=2.5 in /usr/local/lib/python3.11/dist-packages (from requests->nlpcloud) (3.10)\n",
            "Requirement already satisfied: urllib3<3,>=1.21.1 in /usr/local/lib/python3.11/dist-packages (from requests->nlpcloud) (2.4.0)\n",
            "Requirement already satisfied: certifi>=2017.4.17 in /usr/local/lib/python3.11/dist-packages (from requests->nlpcloud) (2025.4.26)\n",
            "Downloading nlpcloud-1.1.47-py3-none-any.whl (3.9 kB)\n",
            "Installing collected packages: nlpcloud\n",
            "Successfully installed nlpcloud-1.1.47\n"
          ]
        }
      ]
    },
    {
      "cell_type": "code",
      "source": [
        "import nlpcloud\n",
        "\n",
        "client = nlpcloud.Client(\"finetuned-llama-3-70b\", \"c1bb7a61dddcefba1f525f071b737a73db3d5fc4\", gpu=True)\n",
        "client.summarization(\n",
        "    \"\"\"As the wind is intermittent, when the demand is not wind dependant (nobody intends to have a fridge that doesn’t operate when there is no wind!), an electricity produced by wind only should be produced in excess then stored when there is wind, to be restituted when the consumer intends to be served. If the storage is done with “chemical” devices, we can use a battery or convert electricity into hydrogen, and if we use the means of mechanical energy, we can for example use water stored in altitude, in a dam lake.\n",
        "\n",
        "If all the electricity production in France was wind generated, storage in batteries would probably be impossible to ensure: to store one week of electricity consumption (which is over1 TWh per day for the whole country), the country should have 7 tons of lead-acid batteries (these batteries can store 30 Wh per kg) per French person (lead-acid batteries are not precisely perfectly “clean” regarding the environmental impact of their manufacturing and their end of life…).\n",
        "\n",
        "A probably more realistic solution would consist in producing hydrogen when there is wind (through electrolysis), then use it in fuel cells when there is no wind. The efficiency of electrolysis is 80% at best, that of storage is also 80% at best (there must be an energy spending to compress the hydrogen into a reservoir!), and then the best fuel cells have an efficiency of 80% in cogeneration (which means promoting electric heating, in a way!) but of 45% fort the sole electricity production.\n",
        "\n",
        "In this last case, the efficiency of the whole storage chain is 28%. If we suppose that half of the electricity is used when it is produced, but that the other half has to be stored, with an efficiency of 25%, then we need roughly 600,000 windmills of 1 MW to produce 500 TWh (that is 125.000 machines that produce without storage, and 500.000 that produce with storage, hence, with an efficiency divided by 4, the total representing the equivalent of 250,000 machines without storage).\n",
        "\n",
        "If we store through elevating water, here is a hint on the scale of what is required: in France, dams produce today 7% of the total electricity consumed (and represent 20% of the installed production power). It means that having enough water stored to supply the whole France when there is no wind requires to multiply dam lakes by 5 to 6 at least (so that dams alone can provide France with 100% of its peak consumption), then have the same surface of lakes downstream to recuperate the water after it is turbined to put it back in the upstram reservoir. We should also take into account the energy losses linked to the friction when elevating water back in upstream reservoirs (with the electricity delivered by wind turbines on windy days, which is roughly 25%).\"\"\",\n",
        "    size=\"small\"\n",
        ")"
      ],
      "metadata": {
        "id": "omtOGK5CL6S-"
      },
      "execution_count": null,
      "outputs": []
    },
    {
      "cell_type": "code",
      "source": [
        "import nlpcloud\n",
        "\n",
        "client = nlpcloud.Client(\"python-langdetect\", \"c1bb7a61dddcefba1f525f071b737a73db3d5fc4\", gpu=False)\n",
        "client.langdetection( # Changed from lang_detection to langdetection\n",
        "    \"\"\"John Doe has been working for Microsoft in Seattle since 1999. Et il parle aussi un peu français.\"\"\"\n",
        ")\n",
        "\n"
      ],
      "metadata": {
        "id": "W4M4vnRMNtX3",
        "outputId": "d57c7887-0bb0-47d8-e84c-c2d22b9575da",
        "colab": {
          "base_uri": "https://localhost:8080/"
        }
      },
      "execution_count": null,
      "outputs": [
        {
          "output_type": "execute_result",
          "data": {
            "text/plain": [
              "{'languages': [{'en': 0.8571397010038821}, {'fr': 0.14285849494083339}]}"
            ]
          },
          "metadata": {},
          "execution_count": 5
        }
      ]
    },
    {
      "cell_type": "code",
      "source": [],
      "metadata": {
        "id": "p0aPD3PdSy2w"
      },
      "execution_count": null,
      "outputs": []
    }
  ],
  "metadata": {
    "colab": {
      "toc_visible": true,
      "provenance": [],
      "include_colab_link": true
    },
    "kernelspec": {
      "display_name": "Python 3",
      "name": "python3"
    }
  },
  "nbformat": 4,
  "nbformat_minor": 0
}